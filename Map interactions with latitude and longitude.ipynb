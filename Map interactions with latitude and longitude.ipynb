{
 "cells": [
  {
   "cell_type": "code",
   "execution_count": 6,
   "id": "a680db55",
   "metadata": {},
   "outputs": [
    {
     "data": {
      "text/html": [
       "<div>\n",
       "<style scoped>\n",
       "    .dataframe tbody tr th:only-of-type {\n",
       "        vertical-align: middle;\n",
       "    }\n",
       "\n",
       "    .dataframe tbody tr th {\n",
       "        vertical-align: top;\n",
       "    }\n",
       "\n",
       "    .dataframe thead th {\n",
       "        text-align: right;\n",
       "    }\n",
       "</style>\n",
       "<table border=\"1\" class=\"dataframe\">\n",
       "  <thead>\n",
       "    <tr style=\"text-align: right;\">\n",
       "      <th></th>\n",
       "      <th>area</th>\n",
       "      <th>latitude</th>\n",
       "      <th>longitude</th>\n",
       "    </tr>\n",
       "  </thead>\n",
       "  <tbody>\n",
       "    <tr>\n",
       "      <th>0</th>\n",
       "      <td>Area 1</td>\n",
       "      <td>12.9716</td>\n",
       "      <td>77.5946</td>\n",
       "    </tr>\n",
       "    <tr>\n",
       "      <th>1</th>\n",
       "      <td>Area 2</td>\n",
       "      <td>13.0827</td>\n",
       "      <td>80.2707</td>\n",
       "    </tr>\n",
       "    <tr>\n",
       "      <th>2</th>\n",
       "      <td>Area 3</td>\n",
       "      <td>12.2958</td>\n",
       "      <td>76.6394</td>\n",
       "    </tr>\n",
       "    <tr>\n",
       "      <th>3</th>\n",
       "      <td>Area 4</td>\n",
       "      <td>11.0168</td>\n",
       "      <td>76.9558</td>\n",
       "    </tr>\n",
       "    <tr>\n",
       "      <th>4</th>\n",
       "      <td>Area 5</td>\n",
       "      <td>9.9252</td>\n",
       "      <td>78.1198</td>\n",
       "    </tr>\n",
       "  </tbody>\n",
       "</table>\n",
       "</div>"
      ],
      "text/plain": [
       "     area  latitude  longitude\n",
       "0  Area 1   12.9716    77.5946\n",
       "1  Area 2   13.0827    80.2707\n",
       "2  Area 3   12.2958    76.6394\n",
       "3  Area 4   11.0168    76.9558\n",
       "4  Area 5    9.9252    78.1198"
      ]
     },
     "execution_count": 6,
     "metadata": {},
     "output_type": "execute_result"
    }
   ],
   "source": [
    "import pandas as pd\n",
    "\n",
    "# Sample data\n",
    "data = {'area': ['Area 1', 'Area 2', 'Area 3', 'Area 4', 'Area 5'],\n",
    "    'latitude': [12.9716, 13.0827, 12.2958, 11.0168, 9.9252],\n",
    "    'longitude': [77.5946, 80.2707, 76.6394, 76.9558, 78.1198]}\n",
    "\n",
    "# Create DataFrame\n",
    "df = pd.DataFrame(data)\n",
    "df"
   ]
  },
  {
   "cell_type": "code",
   "execution_count": 7,
   "id": "2b503877",
   "metadata": {},
   "outputs": [],
   "source": [
    "from bokeh.io import output_file, show\n",
    "from bokeh.plotting import figure\n",
    "from bokeh.models import ColumnDataSource, HoverTool\n",
    "\n",
    "# Convert DataFrame to ColumnDataSource\n",
    "source = ColumnDataSource(df)\n",
    "\n",
    "# Create the figure\n",
    "p = figure(title=\"Custom Interactive Map\", x_axis_label='Longitude', y_axis_label='Latitude', \n",
    "           tools=\"pan,wheel_zoom,reset,save\")\n",
    "\n",
    "# Add circles\n",
    "p.circle('longitude', 'latitude', size=10, source=source)\n",
    "\n",
    "# Add hover tool\n",
    "hover = HoverTool()\n",
    "hover.tooltips = [(\"Area\", \"@area\"),(\"(Lat, Lon)\", \"(@latitude, @longitude)\")]\n",
    "p.add_tools(hover)\n",
    "\n",
    "# Output and show\n",
    "output_file(\"custom_interactive_map.html\")\n",
    "show(p)\n"
   ]
  },
  {
   "cell_type": "code",
   "execution_count": null,
   "id": "66fe53d3",
   "metadata": {},
   "outputs": [],
   "source": []
  }
 ],
 "metadata": {
  "kernelspec": {
   "display_name": "Python 3 (ipykernel)",
   "language": "python",
   "name": "python3"
  },
  "language_info": {
   "codemirror_mode": {
    "name": "ipython",
    "version": 3
   },
   "file_extension": ".py",
   "mimetype": "text/x-python",
   "name": "python",
   "nbconvert_exporter": "python",
   "pygments_lexer": "ipython3",
   "version": "3.11.5"
  }
 },
 "nbformat": 4,
 "nbformat_minor": 5
}
