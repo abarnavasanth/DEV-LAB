{
 "cells": [
  {
   "cell_type": "code",
   "execution_count": 1,
   "id": "b70c2950",
   "metadata": {},
   "outputs": [],
   "source": [
    "from bokeh.io import output_file, show\n",
    "from bokeh.plotting import figure\n",
    "from bokeh.models import ColumnDataSource, HoverTool\n",
    "\n",
    "# Sample data\n",
    "data = {'x': [1, 2, 3, 4, 5], 'y': [6, 7, 2, 4, 5],'desc': ['A', 'B', 'C', 'D', 'E']}\n",
    "\n",
    "source = ColumnDataSource(data=data) # Converts dictionary into a ColumnDataSource\n",
    "\n",
    "# Create the figure\n",
    "p = figure(title=\"Interactive Map with Hover\", tools=\"pan,wheel_zoom,reset,save\")\n",
    "\n",
    "# Add circles\n",
    "p.circle('x', 'y', size=10, source=source)\n",
    "\n",
    "# Add hover tool\n",
    "hover = HoverTool()\n",
    "hover.tooltips = [(\"Description\", \"@desc\"),(\"(x, y)\", \"($x, $y)\")]\n",
    "p.add_tools(hover)\n",
    "\n",
    "# Output and show\n",
    "output_file(\"interactive_map.html\")\n",
    "show(p)\n"
   ]
  }
 ],
 "metadata": {
  "kernelspec": {
   "display_name": "Python 3 (ipykernel)",
   "language": "python",
   "name": "python3"
  },
  "language_info": {
   "codemirror_mode": {
    "name": "ipython",
    "version": 3
   },
   "file_extension": ".py",
   "mimetype": "text/x-python",
   "name": "python",
   "nbconvert_exporter": "python",
   "pygments_lexer": "ipython3",
   "version": "3.11.5"
  }
 },
 "nbformat": 4,
 "nbformat_minor": 5
}
